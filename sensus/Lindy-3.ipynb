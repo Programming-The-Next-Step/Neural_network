{
  "nbformat": 4,
  "nbformat_minor": 0,
  "metadata": {
    "colab": {
      "name": "Lindy.ipynb",
      "provenance": [],
      "collapsed_sections": []
    },
    "kernelspec": {
      "name": "ir",
      "display_name": "R"
    }
  },
  "cells": [
    {
      "cell_type": "markdown",
      "metadata": {
        "id": "b1G_6FiEKrQK",
        "colab_type": "text"
      },
      "source": [
        "# Brownian Motion Simulations\n",
        "\n",
        "**\"My functions\"** have the functions I wrote myself. Below, **\"Package functions\"** have the functions from various R packages. These packages are: \"somebm\" \"fExpressCertificates\" and \"yuima\". The first two give the same results as my functions. \"yuima\" differs slightly most of the time and considerably for certain parameter values. I specified them below. After that, I gathered all functions under a heading for a quick comparison of results. round(vector, n) == round(vector, n) gives \"TRUE\" up to 4 decimal points. The last heading \"Visualizations\" involves a function for plotting. I made it a function because it's easier to use that way. Make sure that when you enter the output of a BM function \"x\" as the input of the plotting function, you index it as x[[1]]. The output is a list with two elements. The first is a matrix of BM values, the second is a vector of hitting times. This does not apply to standard Brownian motion because it does not have an absorbing barrier. \n",
        "\n",
        "## My functions \n",
        "\n",
        "## Standard Brownian Motion\n",
        "This function is actually not needed, first because it does not have a drift. Also, the ABM function does the same thing with mu = 0, provided we set the absorbing barrier L sufficiently above or below 0. This is because in the standard BM, the starting value is always 0. Consequently, the process may hit L - despite not having drift - and set the remaining values to NA. This will not be a problem in ABM and GBM, because we will start with a value above 0). "
      ]
    },
    {
      "cell_type": "code",
      "metadata": {
        "id": "ctT-StbeLWwd",
        "colab_type": "code",
        "outputId": "8c81f408-b96e-4586-db92-142febbcda05",
        "colab": {
          "base_uri": "https://localhost:8080/",
          "height": 77
        }
      },
      "source": [
        "my_bm <- function(t, n, nsim){ # t is the terminal/final time point\n",
        "                               # n is the number of intervals between 0:t\n",
        "                               # nsim is the number of sample paths\n",
        "  sig2 <- t/n # the variance of each increment equals its length \n",
        "  time <- seq(from = 0, to = t, by = sig2) # time vector with t/sig2 + 1 = n + 1 elements \n",
        "  sigma <- sqrt(sig2) # the standard deviation of each increment \n",
        "  ri <- rnorm(n = nsim * (length(time) - 1), mean = 0, sd = sigma) # simulating 100 normally distributed increments for all simulations\n",
        "  X <- matrix(data = ri, nrow = nsim, ncol = length(time) - 1) # storing these increments in a i(number of simulations) x j(number of increments in a simulation) matrix \n",
        "  X <- cbind(rep(0, nsim), t(apply(X, 1, cumsum))) # combining nsim 0s for the starting value of each BM and\n",
        "  return(X)                                        # the new values of the BM as the cumulative sum of the value of the BM at each time point\n",
        "}\n",
        "set.seed(1)\n",
        "bm1 <- my_bm(t = 1, n = 100, nsim = 1) \n",
        "bm1"
      ],
      "execution_count": 0,
      "outputs": [
        {
          "output_type": "display_data",
          "data": {
            "text/plain": [
              "     [,1] [,2]       [,3]      [,4]      [,5]      [,6]      [,7]     \n",
              "[1,] 0    0.04608108 0.1803913 0.2801081 0.2433457 0.2301474 0.4078574\n",
              "     [,8]      [,9]      [,10]     [,11] [,12]      [,13]      [,14]     \n",
              "[1,] 0.3614305 0.3440458 0.3036444 ⋯     -0.4973242 -0.5286845 -0.5078405\n",
              "     [,15]      [,16]      [,17]      [,18]      [,19]      [,20]     \n",
              "[1,] -0.6278036 -0.6512623 -0.8260704 -0.8182794 -0.8276161 -0.8244461\n",
              "     [,21]     \n",
              "[1,] -0.7079515"
            ],
            "text/latex": "A matrix: 1 × 101 of type dbl\n\\begin{tabular}{lllllllllllllllllllll}\n\t 0 & 0.04608108 & 0.1803913 & 0.2801081 & 0.2433457 & 0.2301474 & 0.4078574 & 0.3614305 & 0.3440458 & 0.3036444 & ⋯ & -0.4973242 & -0.5286845 & -0.5078405 & -0.6278036 & -0.6512623 & -0.8260704 & -0.8182794 & -0.8276161 & -0.8244461 & -0.7079515\\\\\n\\end{tabular}\n",
            "text/markdown": "\nA matrix: 1 × 101 of type dbl\n\n| 0 | 0.04608108 | 0.1803913 | 0.2801081 | 0.2433457 | 0.2301474 | 0.4078574 | 0.3614305 | 0.3440458 | 0.3036444 | ⋯ | -0.4973242 | -0.5286845 | -0.5078405 | -0.6278036 | -0.6512623 | -0.8260704 | -0.8182794 | -0.8276161 | -0.8244461 | -0.7079515 |\n\n",
            "text/html": [
              "<table>\n",
              "<caption>A matrix: 1 × 101 of type dbl</caption>\n",
              "<tbody>\n",
              "\t<tr><td>0</td><td>0.04608108</td><td>0.1803913</td><td>0.2801081</td><td>0.2433457</td><td>0.2301474</td><td>0.4078574</td><td>0.3614305</td><td>0.3440458</td><td>0.3036444</td><td>⋯</td><td>-0.4973242</td><td>-0.5286845</td><td>-0.5078405</td><td>-0.6278036</td><td>-0.6512623</td><td>-0.8260704</td><td>-0.8182794</td><td>-0.8276161</td><td>-0.8244461</td><td>-0.7079515</td></tr>\n",
              "</tbody>\n",
              "</table>\n"
            ]
          },
          "metadata": {
            "tags": []
          }
        }
      ]
    },
    {
      "cell_type": "code",
      "metadata": {
        "id": "SOa7OSFVOHle",
        "colab_type": "code",
        "outputId": "a39d9789-3986-4104-9935-5cc14d3094bf",
        "colab": {
          "base_uri": "https://localhost:8080/",
          "height": 164
        }
      },
      "source": [
        "bmplot(x, nsim, t, n, ylim, title) # the function is below  "
      ],
      "execution_count": 0,
      "outputs": [
        {
          "output_type": "error",
          "ename": "ERROR",
          "evalue": "ignored",
          "traceback": [
            "Error in seq(nsim): object 'nsim' not found\nTraceback:\n",
            "1. bmplot(x, nsim, t, n, ylim, title)",
            "2. paste(\"sim\", seq(nsim), sep = \"\")   # at line 4 of file <text>",
            "3. seq(nsim)   # at line 4 of file <text>"
          ]
        }
      ]
    },
    {
      "cell_type": "markdown",
      "metadata": {
        "id": "mv_d44BdMEeL",
        "colab_type": "text"
      },
      "source": [
        "## Arithmetic Brownian Motion (with drift and absorbing parameter)"
      ]
    },
    {
      "cell_type": "code",
      "metadata": {
        "id": "FU5vXmQdMQ8j",
        "colab_type": "code",
        "outputId": "523e32ca-b2b1-4c64-ea9d-32a87b3cc5d1",
        "colab": {
          "base_uri": "https://localhost:8080/",
          "height": 136
        }
      },
      "source": [
        "my_abm <- function(nsim, t, n, X0, mu, sigma, L){ # nsim is the number of BM sample paths to be simulated \n",
        "                                                  # t is the final time point \n",
        "                                                  # n is the number of time intervals/increments from 0:t\n",
        "                                                  # X0 is the first value of BM at time 0, mu is the drift \n",
        "                                                  # sigma is the diffusion coefficient and L is the barrier\n",
        "  \n",
        "  dt <- t/n # time divided into equal intervals; change in time and also the variance of the increments\n",
        "  sig2 <- sigma^2 # the volatility term by which the process is scaled, not the variance of the increments \n",
        "  time <- seq(from = 0, to = t, by = dt) # a time vector that determines the number of columns, with rows being the simulated sample paths  \n",
        "  \n",
        "  initial <- X0 # the initial value of each simulated sample path \n",
        "  X <- matrix(nrow = nsim, ncol = length(time)) # the matrix that will store all the values\n",
        "  X[1:nsim, 1] <- X0 # setting the first value of each simulation \n",
        "  hit_times <- numeric(length = nsim)\n",
        "  \n",
        "  for(i in 1:nrow(X)){\n",
        "    for(j in 2:length(time)){\n",
        "      X[i,j] <- X0 + mu * dt + sigma * sqrt(dt) * rnorm(n = 1, mean = 0, sd = 1) # the formula for the next value of BM\n",
        "      if(X[i,j] > L & j < ncol(X)){ # if the value is larger than the absorbing barrier L, meaning we have not hit it yet, and if the time point (ncol) is not the last time point of a given simulation,\n",
        "        X0 <- X[i,j] # then the initial value of BM is updated by the new value \n",
        "      } else if(X[i,j] > L & j == ncol(X)){ # if we have not hit L but we have come to the last time point in the simulation,\n",
        "        X0 <- initial # then the initial value is updated by 1, which is the first value of every simulation\n",
        "        hit_times[i] <- length(time) # and the hit time is none, so I set it as the last time point\n",
        "      } else if(X[i,j] <= L){ # if we have hit the absorbing barrier from above in a given simulation\n",
        "        X0 <- initial # then the initial value is updated by 1, since we will start the new BM, and\n",
        "        hit_times[i] <- j # the time at which we reach L (the column number) updates the hitting time vector\n",
        "        break\n",
        "      }\n",
        "    }\n",
        "    values <- list(Values = X, Hittings = hit_times)\n",
        "  }\n",
        "  return(values)\n",
        "}\n",
        "\n",
        "set.seed(1)\n",
        "abm1 <- my_abm(nsim = 1, t = 1, n = 100, X0 = 1, mu = -1, sigma = 1, L = 0)\n",
        "abm1"
      ],
      "execution_count": 0,
      "outputs": [
        {
          "output_type": "display_data",
          "data": {
            "text/plain": [
              "$Values\n",
              "     [,1]     [,2]     [,3]     [,4]     [,5]     [,6]     [,7]    [,8]\n",
              "[1,]    1 1.036081 1.160391 1.250108 1.203346 1.180147 1.347857 1.29143\n",
              "         [,9]    [,10]    [,11]    [,12]    [,13]    [,14]    [,15]    [,16]\n",
              "[1,] 1.264046 1.213644 1.345126 1.338248 1.199832 1.248226 1.031335 1.033337\n",
              "         [,17]     [,18]     [,19]     [,20]     [,21]     [,22]     [,23]\n",
              "[1,] 0.6973534 0.6456558 0.5839347 0.6632013 0.7864324 0.8614499 0.9334625\n",
              "         [,24]     [,25]     [,26]     [,27]    [,28]     [,29]     [,30]\n",
              "[1,] 0.8856537 0.7757932 0.7380621 0.7471708 0.910573 0.9063743 0.7094441\n",
              "         [,31]     [,32]     [,33]    [,34]     [,35]     [,36]     [,37]\n",
              "[1,] 0.6360387 0.5931892 0.5966474 0.635959 0.5316402 0.5788528 0.7312166\n",
              "         [,38]     [,39]     [,40]     [,41]     [,42]     [,43]     [,44]\n",
              "[1,] 0.7086569 0.8057989 0.7955584 0.8069932 0.7286386 0.7823675 0.7286507\n",
              "         [,45]     [,46]   [,47]     [,48]     [,49]     [,50]     [,51]\n",
              "[1,] 0.6648113 0.5267609 0.46814 0.3298441 0.4159331 0.4516843 0.3669322\n",
              "         [,52]     [,53]     [,54]      [,55]     [,56]     [,57]    [,58]\n",
              "[1,] 0.2676583 0.2153925 0.1616328 0.06609332 0.1295052 0.1899063 0.048759\n",
              "           [,59] [,60] [,61] [,62] [,63] [,64] [,65] [,66] [,67] [,68] [,69]\n",
              "[1,] -0.08614192    NA    NA    NA    NA    NA    NA    NA    NA    NA    NA\n",
              "     [,70] [,71] [,72] [,73] [,74] [,75] [,76] [,77] [,78] [,79] [,80] [,81]\n",
              "[1,]    NA    NA    NA    NA    NA    NA    NA    NA    NA    NA    NA    NA\n",
              "     [,82] [,83] [,84] [,85] [,86] [,87] [,88] [,89] [,90] [,91] [,92] [,93]\n",
              "[1,]    NA    NA    NA    NA    NA    NA    NA    NA    NA    NA    NA    NA\n",
              "     [,94] [,95] [,96] [,97] [,98] [,99] [,100] [,101]\n",
              "[1,]    NA    NA    NA    NA    NA    NA     NA     NA\n",
              "\n",
              "$Hittings\n",
              "[1] 59\n"
            ],
            "text/latex": "\\begin{description}\n\\item[\\$Values] A matrix: 1 × 101 of type dbl\n\\begin{tabular}{lllllllllllllllllllll}\n\t 1 & 1.036081 & 1.160391 & 1.250108 & 1.203346 & 1.180147 & 1.347857 & 1.29143 & 1.264046 & 1.213644 & ⋯ & NA & NA & NA & NA & NA & NA & NA & NA & NA & NA\\\\\n\\end{tabular}\n\n\\item[\\$Hittings] 59\n\\end{description}\n",
            "text/markdown": "$Values\n:   \nA matrix: 1 × 101 of type dbl\n\n| 1 | 1.036081 | 1.160391 | 1.250108 | 1.203346 | 1.180147 | 1.347857 | 1.29143 | 1.264046 | 1.213644 | ⋯ | NA | NA | NA | NA | NA | NA | NA | NA | NA | NA |\n\n\n$Hittings\n:   59\n\n\n",
            "text/html": [
              "<dl>\n",
              "\t<dt>$Values</dt>\n",
              "\t\t<dd><table>\n",
              "<caption>A matrix: 1 × 101 of type dbl</caption>\n",
              "<tbody>\n",
              "\t<tr><td>1</td><td>1.036081</td><td>1.160391</td><td>1.250108</td><td>1.203346</td><td>1.180147</td><td>1.347857</td><td>1.29143</td><td>1.264046</td><td>1.213644</td><td>⋯</td><td>NA</td><td>NA</td><td>NA</td><td>NA</td><td>NA</td><td>NA</td><td>NA</td><td>NA</td><td>NA</td><td>NA</td></tr>\n",
              "</tbody>\n",
              "</table>\n",
              "</dd>\n",
              "\t<dt>$Hittings</dt>\n",
              "\t\t<dd>59</dd>\n",
              "</dl>\n"
            ]
          },
          "metadata": {
            "tags": []
          }
        }
      ]
    },
    {
      "cell_type": "code",
      "metadata": {
        "id": "IhzqrzlnORM_",
        "colab_type": "code",
        "outputId": "18368027-e8fb-465b-a56e-67b3ace5ec92",
        "colab": {
          "base_uri": "https://localhost:8080/",
          "height": 164
        }
      },
      "source": [
        "bmplot(x, nsim, t, n, ylim, title) # the function is below"
      ],
      "execution_count": 0,
      "outputs": [
        {
          "output_type": "error",
          "ename": "ERROR",
          "evalue": "ignored",
          "traceback": [
            "Error in seq(nsim): object 'nsim' not found\nTraceback:\n",
            "1. bmplot(x, nsim, t, n, ylim, title)",
            "2. paste(\"sim\", seq(nsim), sep = \"\")   # at line 4 of file <text>",
            "3. seq(nsim)   # at line 4 of file <text>"
          ]
        }
      ]
    },
    {
      "cell_type": "markdown",
      "metadata": {
        "id": "qh7Ib9ANMlTC",
        "colab_type": "text"
      },
      "source": [
        "A data frame that includes the hitting time of each simulated BM\n"
      ]
    },
    {
      "cell_type": "code",
      "metadata": {
        "id": "BDFbxhBfMovs",
        "colab_type": "code",
        "outputId": "b0b4771e-a5ca-4770-ecaf-945aacbc10cb",
        "colab": {
          "base_uri": "https://localhost:8080/",
          "height": 147
        }
      },
      "source": [
        "failures <- data.frame(Simulations = c(paste(rep(\"Sim\", 100), c(1:100), \"\")), Hitting_times = x1$`Hitting times`) \n",
        "hist(failures$Hitting_times, xlab = \"Hitting times\", ylab = \"Frequency\", \n",
        "     main = \"Hitting times of 1000 GBM sample paths\", xlim = c(0, 1000))"
      ],
      "execution_count": 0,
      "outputs": [
        {
          "output_type": "error",
          "ename": "ERROR",
          "evalue": "ignored",
          "traceback": [
            "Error in data.frame(Simulations = c(paste(rep(\"Sim\", 100), c(1:100), \"\")), : object 'x1' not found\nTraceback:\n",
            "1. data.frame(Simulations = c(paste(rep(\"Sim\", 100), c(1:100), \"\")), \n .     Hitting_times = x1$`Hitting times`)"
          ]
        }
      ]
    },
    {
      "cell_type": "markdown",
      "metadata": {
        "id": "t6TgTFGkMzMs",
        "colab_type": "text"
      },
      "source": [
        "## Geometric Brownian Motion (with absorbing barrier)\n",
        "The only difference between this and the ABM function is the formula. The variables are the same."
      ]
    },
    {
      "cell_type": "code",
      "metadata": {
        "id": "rbY6bpEbM16k",
        "colab_type": "code",
        "colab": {}
      },
      "source": [
        "my_gbm <- function(nsim, t, n, X0, mu, sigma, L){ # nsim is the number of BM sample paths to be simulated \n",
        "                                                  # t is the final time point \n",
        "                                                  # n is the number of time intervals/increments from 0:t\n",
        "                                                  # X0 is the first value of BM at time 0, mu is the drift \n",
        "                                                  # sigma is the diffusion coefficient, L is the barrier\n",
        "  \n",
        "  dt <- t/n # time divided into equal intervals; change in time and also the variance of the increments\n",
        "  sig2 <- sigma^2 # the volatility term by which the process is scaled, not the variance of the increments \n",
        "  time <- seq(from = 0, to = t, by = dt) # a time vector that determines the number of columns, with rows being the simulated sample paths  \n",
        "  \n",
        "  initial <- X0 # the initial value of each simulated sample path \n",
        "  X <- matrix(nrow = nsim, ncol = length(time)) # the matrix that will store all the values\n",
        "  X[1:nsim, 1] <- X0 # setting the first value of each simulation \n",
        "  hit_times <- numeric(length = nsim) # one hitting time for each simulated sample path  \n",
        "  \n",
        "  for(i in 1:nrow(X)){\n",
        "    for(j in 2:length(time)){\n",
        "      X[i,j] <- X0 * exp(((mu - 0.5 * sig2) * dt) + (sigma * sqrt(dt) * rnorm(n = 1, mean = 0, sd = 1))) # the formula for the next value of BM\n",
        "      if(X[i,j] > L & j < ncol(X)){ # if the value is larger than the absorbing barrier L, meaning we have not hit it yet, and if the time point (ncol) is not the last time point of a given simulation,\n",
        "        X0 <- X[i,j] # then the initial value of BM is updated by the new value \n",
        "      } else if(X[i,j] > L & j == ncol(X)){ # if we have not hit L but we have come to the last time point in the simulation,\n",
        "        X0 <- initial # then the initial value is updated by 1, which is the first value of every simulation\n",
        "        hit_times[i] <- length(time) # and the hit time is none\n",
        "      } else if(X[i,j] <= L){ # if we have hit the absorbing barrier from above in a given simulation\n",
        "        X0 <- initial # then the initial value is updated by 1, since we will start the new BM, and\n",
        "        hit_times[i] <- j # the time at which we reach L (the column number) updates the hitting time vector\n",
        "        break\n",
        "      }\n",
        "    }\n",
        "    values <- list(\"Values\" = X, \"Hitting times\" = hit_times)\n",
        "  }\n",
        "  return(values)\n",
        "}\n",
        "\n",
        "set.seed(1)\n",
        "gbm1 <- my_gbm(nsim = 1, t = 1, n = 100, X0 = 1, mu = -1, sigma = 1, L = 0.1)\n",
        "gbm1"
      ],
      "execution_count": 0,
      "outputs": []
    },
    {
      "cell_type": "code",
      "metadata": {
        "id": "SU_UV43FOTD6",
        "colab_type": "code",
        "colab": {}
      },
      "source": [
        "bmplot(x, nsim, t, n, ylim, title) # the function is below"
      ],
      "execution_count": 0,
      "outputs": []
    },
    {
      "cell_type": "markdown",
      "metadata": {
        "id": "AjJJEEs3NBDp",
        "colab_type": "text"
      },
      "source": [
        "The same data frame for the hitting times "
      ]
    },
    {
      "cell_type": "code",
      "metadata": {
        "id": "DbA0rpdYNCKX",
        "colab_type": "code",
        "outputId": "e52cf90e-b263-4f6e-85e9-8a35dd94410b",
        "colab": {
          "base_uri": "https://localhost:8080/",
          "height": 147
        }
      },
      "source": [
        "failures <- data.frame(Simulations = c(paste(rep(\"Sim\", 100), c(1:100), \"\")), Hitting_times = x1$`Hitting times`) \n",
        "hist(failures$Hitting_times, xlab = \"Hitting times\", ylab = \"Frequency\", \n",
        "     main = \"Hitting times of 1000 GBM sample paths\", xlim = c(0, 1000))"
      ],
      "execution_count": 0,
      "outputs": [
        {
          "output_type": "error",
          "ename": "ERROR",
          "evalue": "ignored",
          "traceback": [
            "Error in data.frame(Simulations = c(paste(rep(\"Sim\", 100), c(1:100), \"\")), : object 'x1' not found\nTraceback:\n",
            "1. data.frame(Simulations = c(paste(rep(\"Sim\", 100), c(1:100), \"\")), \n .     Hitting_times = x1$`Hitting times`)"
          ]
        }
      ]
    },
    {
      "cell_type": "markdown",
      "metadata": {
        "id": "bLERSXpzNERv",
        "colab_type": "text"
      },
      "source": [
        "# Package functions \n",
        "\n",
        "## The \"fExpressCertificates\" package "
      ]
    },
    {
      "cell_type": "code",
      "metadata": {
        "id": "ORRFifTDNJ4x",
        "colab_type": "code",
        "colab": {}
      },
      "source": [
        "#install.packages(\"fExpressCertificates\")\n",
        "library(fExpressCertificates)  \n",
        "set.seed(1)\n",
        "bm2 <- fExpressCertificates::BM(S0 = 0, mu = 0, sigma = 1, T = 1, N = 100) # standard \n",
        "abm2 <- fExpressCertificates::BM(S0 = 1, mu = -1, sigma = 1, T = 1, N = 100) # arithmetic \n",
        "gbm2 <- fExpressCertificates::GBM(S0 = 1, mu = -1, sigma = 1, T = 1, N = 100) # geometric "
      ],
      "execution_count": 0,
      "outputs": []
    },
    {
      "cell_type": "markdown",
      "metadata": {
        "id": "56La8HgONN-G",
        "colab_type": "text"
      },
      "source": [
        "## The \"somebm\" package (just standard and geometric)\n"
      ]
    },
    {
      "cell_type": "code",
      "metadata": {
        "id": "RB7oCC-MNPVr",
        "colab_type": "code",
        "colab": {}
      },
      "source": [
        "#install.packages(\"somebm\")\n",
        "library(somebm)\n",
        "set.seed(1)\n",
        "bm3 <- somebm::bm(x0 = 0, t0 = 0, t = 1, n = 100) # standard \n",
        "gbm3 <- somebm::gbm(x0 = 1, mu = -1, sigma = 1, t0 = 0, t = 1, n = 100) # geometric \n"
      ],
      "execution_count": 0,
      "outputs": []
    },
    {
      "cell_type": "markdown",
      "metadata": {
        "id": "J6BdyIflNUmb",
        "colab_type": "text"
      },
      "source": [
        "## GBM with the yuima package\n",
        "This mostly gives the same results, except when \"Terminal\"/the last point is much larger (e.g., 100 instead of 1 for all functions). This is not a problem with the other packages."
      ]
    },
    {
      "cell_type": "code",
      "metadata": {
        "id": "ddy_GVXANYVo",
        "colab_type": "code",
        "outputId": "73216c56-e7e0-4ce0-ac6e-925739c56968",
        "colab": {
          "base_uri": "https://localhost:8080/",
          "height": 68
        }
      },
      "source": [
        "install.packages(\"yuima\")\n",
        "require(yuima)\n",
        "set.seed(1)\n",
        "m <- setModel(drift = \"mu*s\", diffusion = \"sigma*s\", state.var = \"s\", time.var = \"t\", solve.var = \"s\", xinit = 1)\n",
        "options(warn = -1)# Suppress Warnings from R\n",
        "simnum <- 1 # number of BMs to be simulated \n",
        "grid <- setSampling(Initial = 0, Terminal = 1, n = 100) # Initial is the first time point, Terminal is the last time point, n is the number of intervals \n",
        "newsim <- function(i){simulate(m, sampling = grid, true.param = list(mu = -1, sigma = 1))@data@original.data}\n",
        "options(warn = -1)# Suppress Warnings from R\n",
        "sim <- sapply(1:simnum, function(x)newsim(x))\n",
        "gbm4 <- t(sim) # this is the final matrix with the values of all the simulations "
      ],
      "execution_count": 0,
      "outputs": [
        {
          "output_type": "stream",
          "text": [
            "Installing package into ‘/usr/local/lib/R/site-library’\n",
            "(as ‘lib’ is unspecified)\n",
            "\n"
          ],
          "name": "stderr"
        }
      ]
    },
    {
      "cell_type": "markdown",
      "metadata": {
        "id": "u8IcMdpiNf1V",
        "colab_type": "text"
      },
      "source": [
        "This is independent from the package. I added it to get the hitting times"
      ]
    },
    {
      "cell_type": "code",
      "metadata": {
        "id": "Ks8rmzPyNgim",
        "colab_type": "code",
        "outputId": "8e65c9c5-23c4-4c2d-8736-7dedb24aafba",
        "colab": {
          "base_uri": "https://localhost:8080/",
          "height": 147
        }
      },
      "source": [
        "hittings <- numeric(length = nrow(x3)) \n",
        "for(i in 1:nrow(x3)){\n",
        "  for(j in 2:ncol(x3)){\n",
        "    if(x3[i,j] <= 0.001){\n",
        "      hittings[i] <- j\n",
        "      break\n",
        "    }\n",
        "  }\n",
        "}\n",
        "hist(hittings)"
      ],
      "execution_count": 0,
      "outputs": [
        {
          "output_type": "error",
          "ename": "ERROR",
          "evalue": "ignored",
          "traceback": [
            "Error in nrow(x3): object 'x3' not found\nTraceback:\n",
            "1. numeric(length = nrow(x3))",
            "2. nrow(x3)"
          ]
        }
      ]
    },
    {
      "cell_type": "markdown",
      "metadata": {
        "id": "1U5sidt8Nnul",
        "colab_type": "text"
      },
      "source": [
        "# Comparing all four functions\n",
        "\n",
        "## Standard Brownian motion"
      ]
    },
    {
      "cell_type": "code",
      "metadata": {
        "id": "BHrZb_NBNplG",
        "colab_type": "code",
        "colab": {}
      },
      "source": [
        "set.seed(1)\n",
        "bm1 <- my_bm(t = 1, n = 100, nsim = 1) \n",
        "bm2 <- my_abm(nsim = 1, t = 1, n = 100, X0 = 0, mu = 0, sigma = 1, L = -100) # my abm with mu = 0\n",
        "bm3 <- fExpressCertificates::BM(S0 = 0, mu = 0, sigma = 1, T = 1, N = 100) # other abm with mu = 0 \n",
        "bm4 <- somebm::bm(x0 = 0, t0 = 0, t = 1, n = 100)\n"
      ],
      "execution_count": 0,
      "outputs": []
    },
    {
      "cell_type": "code",
      "metadata": {
        "id": "kvWuPl-VNtwF",
        "colab_type": "code",
        "colab": {}
      },
      "source": [
        "bm1[1:10]\n",
        "bm2[1, 1:10]\n",
        "bm3[1:10]\n",
        "bm4[1:10]"
      ],
      "execution_count": 0,
      "outputs": []
    },
    {
      "cell_type": "markdown",
      "metadata": {
        "id": "l8s-dBVBNu4D",
        "colab_type": "text"
      },
      "source": [
        "## Arithmetic Brownian motion with drift\n"
      ]
    },
    {
      "cell_type": "code",
      "metadata": {
        "id": "jUW-k4F_NyGE",
        "colab_type": "code",
        "colab": {}
      },
      "source": [
        "set.seed(1)\n",
        "abm1 <- my_abm(nsim = 1, t = 1, n = 100, X0 = 0, mu = -1, sigma = 1, L = -100)\n",
        "abm2 <- fExpressCertificates::BM(S0 = 0, mu = -1, sigma = 1, T = 1, N = 100)\n"
      ],
      "execution_count": 0,
      "outputs": []
    },
    {
      "cell_type": "code",
      "metadata": {
        "id": "JJDUd_sWN0On",
        "colab_type": "code",
        "colab": {}
      },
      "source": [
        "abm1[1, 1:10]\n",
        "abm2[1:10]"
      ],
      "execution_count": 0,
      "outputs": []
    },
    {
      "cell_type": "markdown",
      "metadata": {
        "id": "LXqNtkYmN2e4",
        "colab_type": "text"
      },
      "source": [
        "## Geometric Brownian motion\n",
        "All except the yuima package give the same result (and yuima is very similar)\n"
      ]
    },
    {
      "cell_type": "code",
      "metadata": {
        "id": "vnN39TaJN4Ne",
        "colab_type": "code",
        "colab": {}
      },
      "source": [
        "set.seed(1)\n",
        "gbm1 <- my_gbm(nsim = 2, t = 100, n = 100, X0 = 1, mu = -1, sigma = 1, L = -100) # my gbm \n",
        "gbm2 <- fExpressCertificates::GBM(S0 = 1, mu = -1, sigma = 1, T = 100, N = 100)\n",
        "gbm3 <- somebm::gbm(x0 = 1, mu = -1, sigma = 1, t0 = 0, t = 1, n = 100)\n"
      ],
      "execution_count": 0,
      "outputs": []
    },
    {
      "cell_type": "code",
      "metadata": {
        "id": "UGDbjdrBN8ed",
        "colab_type": "code",
        "colab": {}
      },
      "source": [
        "gbm1[[1]][1, 1:10]\n",
        "gbm2[1:10]\n",
        "gbm3[1:10]\n",
        "gbm4[2, 1:10] # the yuima package "
      ],
      "execution_count": 0,
      "outputs": []
    },
    {
      "cell_type": "markdown",
      "metadata": {
        "id": "ySp51gJGOAYF",
        "colab_type": "text"
      },
      "source": [
        "# Visualizations"
      ]
    },
    {
      "cell_type": "code",
      "metadata": {
        "id": "009wnKzQOBr_",
        "colab_type": "code",
        "colab": {}
      },
      "source": [
        "library(ggplot2)\n",
        "library(reshape2)\n",
        "bmplot <- function(x, nsim, t, n, L, ylim, title){ # x is the matrix output of the BM functions, n is the number of simulations, t is the vector of time points, as in the BM functions \n",
        "  rownames(x) <- paste(\"sim\", seq(nsim), sep = \"\") # the number of simulations / rows\n",
        "  colnames(x) <- paste(\"time\", seq(0:n), sep = \"\") # the number of time points - 0:100 at the moment / columns \n",
        "  dat <- as.data.frame(x) # creating the data frame for ggplot \n",
        "  dat$sim <- rownames(dat)\n",
        "  mdat <- melt(dat, id.vars = \"sim\")\n",
        "  mdat$time <- as.numeric(gsub(\"time\", \"\", mdat$variable))\n",
        "  \n",
        "  p <- ggplot(data = mdat, mapping = aes(x = time, y = value, group = sim)) +\n",
        "  theme_bw() +\n",
        "  theme(panel.grid = element_blank(), \n",
        "        plot.title = element_text(hjust = 0.5),\n",
        "        axis.title.y = element_text(angle = 0, size = 11, margin = margin(t = 0, r = 10, b = 0, l = 0)), \n",
        "        axis.title.x = element_text(margin = margin(t = 10, b = 10))) +\n",
        "  geom_line(size = 0.3, alpha = 1, aes(color = sim), show.legend = FALSE) + \n",
        "    ggtitle(title) + xlab(\"Time\") + ylab(\"Value\") + ylim(ylim) + geom_hline(yintercept = L, color = \"orange\", size = 0.3)\n",
        "  return(p)\n",
        "}"
      ],
      "execution_count": 0,
      "outputs": []
    },
    {
      "cell_type": "markdown",
      "metadata": {
        "colab_type": "text",
        "id": "igw3YvFF3HFY"
      },
      "source": [
        "# Simulations "
      ]
    },
    {
      "cell_type": "markdown",
      "metadata": {
        "id": "oK7JEXWJiwJZ",
        "colab_type": "text"
      },
      "source": [
        "### Storing the values: These two functions will allow us to nealty store the resutls. It is easier to define them before running the simulations. I wrote them because the results of parallel simulations are a mess. \n"
      ]
    },
    {
      "cell_type": "markdown",
      "metadata": {
        "id": "kE3NaCkni7_H",
        "colab_type": "text"
      },
      "source": [
        "### The BM values "
      ]
    },
    {
      "cell_type": "code",
      "metadata": {
        "id": "77q1I8Bbi2bq",
        "colab_type": "code",
        "colab": {}
      },
      "source": [
        "values <- function(x, nsim, n){\n",
        "  u <- unlist(x)\n",
        "  u <- u[-which(names(u) == \"Hittings\")]\n",
        "  m <- matrix(data = u, nrow = nsim, ncol = length(0:n), byrow = TRUE)\n",
        "  df <- data.frame(x = t(m), row.names = paste0(\"Time\", 0:n, \"\"))\n",
        "  colnames(x = df) <- paste0(\"Sim\", 1:nsim, \"\")\n",
        "  store <- list(m, df)\n",
        "  return(store)\n",
        "}"
      ],
      "execution_count": 0,
      "outputs": []
    },
    {
      "cell_type": "markdown",
      "metadata": {
        "id": "EGuAkAXDjGqD",
        "colab_type": "text"
      },
      "source": [
        "### The hitting times "
      ]
    },
    {
      "cell_type": "code",
      "metadata": {
        "id": "Zl_HBBSCjKaG",
        "colab_type": "code",
        "colab": {}
      },
      "source": [
        "hittings <- function(x, nsim, n){\n",
        "  u <- unlist(x)\n",
        "  u <- u[-which(names(u) != \"Hittings\")]\n",
        "  m <- matrix(data = u, nrow = nsim, ncol = 1, byrow = TRUE)\n",
        "  df <- data.frame(x = m, row.names = paste0(\"Sim\", 1:nsim, \"\"))\n",
        "  colnames(x = df) <- \"Hitting time\"\n",
        "  store <- list(m, df)\n",
        "  return(store)\n",
        "}\n"
      ],
      "execution_count": 0,
      "outputs": []
    },
    {
      "cell_type": "markdown",
      "metadata": {
        "id": "lW2feFWqjO0E",
        "colab_type": "text"
      },
      "source": [
        "### Parallel processing function "
      ]
    },
    {
      "cell_type": "code",
      "metadata": {
        "id": "EtBAz9pWjR92",
        "colab_type": "code",
        "colab": {}
      },
      "source": [
        "install.packages(\"parallel\")\n",
        "library(parallel)\n",
        "RNGkind(\"L'Ecuyer-CMRG\") \n",
        "detectCores()"
      ],
      "execution_count": 0,
      "outputs": []
    },
    {
      "cell_type": "code",
      "metadata": {
        "id": "zJsH7bwGjk5y",
        "colab_type": "code",
        "colab": {}
      },
      "source": [
        "f <- function(i){ # specify the desired function and parameter values here\n",
        "  my_abm(nsim = 1, t = 1, n = 100, X0 = 1, mu = -1, sigma = -0.15, L = 0) # keep nsim = 1 for now, will change later\n",
        "}"
      ],
      "execution_count": 0,
      "outputs": []
    },
    {
      "cell_type": "code",
      "metadata": {
        "id": "Udeyxy5QkPR0",
        "colab_type": "code",
        "colab": {}
      },
      "source": [
        "set.seed(1)\n",
        "res <- mclapply(X = 1:100, f, mc.cores = 8, mc.set.seed = TRUE) # X is the n of sim as a vector \n",
        "                                                                 # f is the function defined above \n",
        "                                                                 # n of cores you want to use "
      ],
      "execution_count": 0,
      "outputs": []
    },
    {
      "cell_type": "code",
      "metadata": {
        "id": "48rm4c3ZkZs1",
        "colab_type": "code",
        "colab": {}
      },
      "source": [
        "s <- values(x = res, nsim = 100, n = 100) # indexing the BM values \n",
        "mval <- s[[1]] # BM values in a matrix (goes into the plotting function)\n",
        "dfval <- s[[2]] # BM values in a data frame\n",
        "\n",
        "h <- hittings(x = res, nsim = 100, n = 100) # indexing the hitting times \n",
        "mhit <- h[[1]] # in a matrix (for histograms)\n",
        "dfhit <- h[[2]] # in a data frame "
      ],
      "execution_count": 0,
      "outputs": []
    },
    {
      "cell_type": "code",
      "metadata": {
        "id": "NXqWHVZykdqO",
        "colab_type": "code",
        "colab": {}
      },
      "source": [
        "p <- bmplot(x = mval, nsim = 100, t = 1, n = 100, L = 0, ylim = c(min(mval), max(mval)), # Define the range of the y-axis \n",
        "title = \"Arithmetic Brownian motion with negative drift and an absorbing barrier\")"
      ],
      "execution_count": 0,
      "outputs": []
    },
    {
      "cell_type": "code",
      "metadata": {
        "id": "pgE765Q8kfYA",
        "colab_type": "code",
        "colab": {}
      },
      "source": [
        "print(p)"
      ],
      "execution_count": 0,
      "outputs": []
    },
    {
      "cell_type": "code",
      "metadata": {
        "id": "NtXx4Laikhyi",
        "colab_type": "code",
        "colab": {}
      },
      "source": [
        "hist(mhit) # Histogram of hitting times "
      ],
      "execution_count": 0,
      "outputs": []
    },
    {
      "cell_type": "markdown",
      "metadata": {
        "id": "YOXoQ9k7iugb",
        "colab_type": "text"
      },
      "source": [
        ""
      ]
    }
  ]
}